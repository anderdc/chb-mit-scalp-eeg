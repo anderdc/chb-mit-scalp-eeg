{
 "cells": [
  {
   "cell_type": "markdown",
   "id": "a03de8f9-1d21-4e43-9f57-da4ca041bd41",
   "metadata": {},
   "source": [
    "# Feature Selection\n",
    "Following from `feature_extraction.ipynb` I will continue working on one patient, `chb15`, but I will develop a data transformation pipeline to facilitate gathering of ALL `chb15`'s data files. That way I can create a model using all patient's data, and all the features extracted earlier, then select the most informative ones. \n",
    "\n",
    "### Goals \n",
    "- Develop a data processing pipeline that is generalizable for all EEG files\n",
    "- Figure out the best way to separate the data for train/test/validation\n",
    "- begin ideation and perhaps implementation of addressing class imbalance in dataset\n",
    "- Train an SVM (perhaps a random forest too?) and analyze its initial performance and weights to gain insight on where useful information lies.\n",
    "\n",
    "### Notes on determining feature quality\n",
    "  - Accuracy\n",
    "  - ROC-AUC\n",
    "  - Feature importance (tree based models)\n",
    "  - PCA (looking at the eigenvector and matching that to the features)\n",
    "\n",
    "### Notes\n"
   ]
  }
 ],
 "metadata": {
  "kernelspec": {
   "display_name": "Python 3 (ipykernel)",
   "language": "python",
   "name": "python3"
  },
  "language_info": {
   "codemirror_mode": {
    "name": "ipython",
    "version": 3
   },
   "file_extension": ".py",
   "mimetype": "text/x-python",
   "name": "python",
   "nbconvert_exporter": "python",
   "pygments_lexer": "ipython3",
   "version": "3.11.11"
  }
 },
 "nbformat": 4,
 "nbformat_minor": 5
}
